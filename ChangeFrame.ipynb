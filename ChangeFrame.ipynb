{
 "cells": [
  {
   "cell_type": "markdown",
   "metadata": {},
   "source": [
    "## Let's determine how to compute the velocities from a frame to another"
   ]
  },
  {
   "cell_type": "code",
   "execution_count": 95,
   "metadata": {},
   "outputs": [],
   "source": [
    "from astropy.coordinates import SkyCoord\n",
    "import astropy.units as u\n",
    "from astropy.coordinates import Galactic, ICRS, LSR\n",
    "import numpy as np"
   ]
  },
  {
   "cell_type": "code",
   "execution_count": 97,
   "metadata": {},
   "outputs": [
    {
     "name": "stdout",
     "output_type": "stream",
     "text": [
      "<ICRS Coordinate: (ra, dec) in deg\n",
      "    (10.67919546, 41.27191022)\n",
      " (pm_ra_cosdec, pm_dec, radial_velocity) in (mas / yr, mas / yr, km / s)\n",
      "    (5.34876813, -14.9751888, 23.42)>\n"
     ]
    }
   ],
   "source": [
    "gala = Galactic(l=121.17*u.degree, b=-21.57*u.degree,\n",
    "            pm_l_cosb=4.8*u.mas/u.yr, pm_b=-15.16*u.mas/u.yr,\n",
    "            radial_velocity=23.42*u.km/u.s)\n",
    "\n",
    "print(gala.transform_to(ICRS()))"
   ]
  },
  {
   "cell_type": "markdown",
   "metadata": {},
   "source": [
    "### Initialisation of the different velocity components "
   ]
  },
  {
   "cell_type": "code",
   "execution_count": 180,
   "metadata": {},
   "outputs": [],
   "source": [
    "U      = 10.6 \n",
    "V      = 247\n",
    "W      = 7.6"
   ]
  },
  {
   "cell_type": "markdown",
   "metadata": {},
   "source": [
    "## Radial velocity\n",
    "\n",
    "We have different components adding up for that total radial velocity. Let's derive it step by step, starting in the plane containing the disc of the MW. The following graph shows the different contributions of the different velocities.  We are going to denote these velocities with the name disc in order to know that these are just the ones in the plane of the disc. We can note that only W is here having a value of zero.\n",
    "\n",
    "#### In the plane of the disc"
   ]
  },
  {
   "cell_type": "code",
   "execution_count": 203,
   "metadata": {},
   "outputs": [],
   "source": [
    "rad_disc   = V*np.cos(31.17*np.pi/180) - U*np.cos(58.83*np.pi/180)\n",
    "\n",
    "trans_disc = -V*np.sin(31.17*np.pi/180) - U*np.sin(58.83*np.pi/180) #pm_l"
   ]
  },
  {
   "cell_type": "markdown",
   "metadata": {},
   "source": [
    "#### In the plane passing by the north galactic pole and the LOS"
   ]
  },
  {
   "cell_type": "code",
   "execution_count": 214,
   "metadata": {},
   "outputs": [],
   "source": [
    "rad_pole_LOS   = rad_disc*np.cos(21.57*np.pi/180) - W*np.cos(68.43*np.pi/180) #final radial velocity\n",
    "\n",
    "trans_pole_LOS = -rad_disc*np.sin(21.57*np.pi/180) - W*np.sin(68.43*np.pi/180) #pm_b"
   ]
  },
  {
   "cell_type": "markdown",
   "metadata": {},
   "source": [
    "#### From there we would then like to know what are these velocities in km/s instead of mas/yr."
   ]
  },
  {
   "cell_type": "code",
   "execution_count": 215,
   "metadata": {
    "scrolled": true
   },
   "outputs": [],
   "source": [
    "dist_l = trans_disc*365.25*86400\n",
    "dist_b = trans_pole_LOS*365.25*86400\n",
    "\n",
    "pm_l_final = dist_l/(780*3.08E16*4.84814E-12*np.cos(21.57))\n",
    "pm_b_final = dist_b/(780*3.08E16*4.84814E-12)"
   ]
  },
  {
   "cell_type": "code",
   "execution_count": 219,
   "metadata": {},
   "outputs": [
    {
     "name": "stdout",
     "output_type": "stream",
     "text": [
      "-55.13246520851354\n",
      "20.925514474738435\n"
     ]
    }
   ],
   "source": [
    "gala = Galactic(l=121.17*u.degree, b=-21.57*u.degree,\n",
    "            pm_l_cosb=-pm_l_final*u.mas/u.yr, pm_b=-pm_b_final*u.mas/u.yr,\n",
    "            radial_velocity=-rad_pole_LOS*u.km/u.s)\n",
    "\n",
    "Answer = gala.transform_to(ICRS())\n",
    "\n",
    "v_ra  = (Answer.pm_ra_cosdec.value)/np.cos(41.27191022*np.pi/180)\n",
    "v_dec = Answer.pm_dec.value\n",
    "\n",
    "print(v_ra)\n",
    "print(v_dec)"
   ]
  },
  {
   "cell_type": "code",
   "execution_count": 217,
   "metadata": {},
   "outputs": [
    {
     "name": "stdout",
     "output_type": "stream",
     "text": [
      "The transverse velocity of such uncertainties would be about:: -203.48102501017482\n",
      "The transverse velocity of such uncertainties would be about:: 77.23117618777395\n"
     ]
    }
   ],
   "source": [
    "RadDist = 780*3.08E16 #1kpc is 3.086E16km\n",
    "YrToSec = 365.25*86400 #Years to seconds\n",
    "\n",
    "v = RadDist*(v_ra*4.84814E-12)/YrToSec\n",
    "print(\"The transverse velocity of such uncertainties would be about::\", v)\n",
    "\n",
    "v = RadDist*(v_dec*4.84814E-12)/YrToSec\n",
    "print(\"The transverse velocity of such uncertainties would be about::\", v)"
   ]
  },
  {
   "cell_type": "code",
   "execution_count": 233,
   "metadata": {},
   "outputs": [
    {
     "name": "stdout",
     "output_type": "stream",
     "text": [
      "The transverse velocity of such uncertainties would be about:: 138.77279950110275\n",
      "The transverse velocity of such uncertainties would be about:: 77.13700823332573\n"
     ]
    }
   ],
   "source": [
    "RadDist = 780*3.08E16 #1kpc is 3.086E16km\n",
    "YrToSec = 365.25*86400 #Years to seconds\n",
    "\n",
    "v = RadDist*(37.6*4.84814E-12)/YrToSec\n",
    "print(\"The transverse velocity of such uncertainties would be about::\", v)\n",
    "\n",
    "v = RadDist*(20.9*4.84814E-12)/YrToSec\n",
    "print(\"The transverse velocity of such uncertainties would be about::\", v)"
   ]
  },
  {
   "cell_type": "code",
   "execution_count": 213,
   "metadata": {},
   "outputs": [
    {
     "ename": "SyntaxError",
     "evalue": "unexpected EOF while parsing (<ipython-input-213-f6353a3c1e46>, line 38)",
     "output_type": "error",
     "traceback": [
      "\u001b[0;36m  File \u001b[0;32m\"<ipython-input-213-f6353a3c1e46>\"\u001b[0;36m, line \u001b[0;32m38\u001b[0m\n\u001b[0;31m    if b_obj >= 0 and b_obj < 90:\u001b[0m\n\u001b[0m                                 ^\u001b[0m\n\u001b[0;31mSyntaxError\u001b[0m\u001b[0;31m:\u001b[0m unexpected EOF while parsing\n"
     ]
    }
   ],
   "source": [
    "def ObsVel(l_obj, b_obj): #Observed velocity\n",
    "    #___ Description_____________________________________________________________________________________\n",
    "    #Arguments:: l and b coordinates in degrees\n",
    "    #Returns:: ...\n",
    "    #____________________________________________________________________________________________________\n",
    "\n",
    "    #Let's first define the velocity of the Sun in the MW. To do so we usually sum the circular velocity\n",
    "    #of the Sun with a peculiar velocity, the latter having three components, U (pointing towards the ga-\n",
    "    #lactic center), V (depends on convention, here in the direction of the rotation of the Sun) and W \n",
    "    #(pointing towards the North galactic pole). Here we use the values from Reid and al (2019)\n",
    "    \n",
    "    U      = 10.6  \n",
    "    V      = 247\n",
    "    W      = 7.6\n",
    "    \n",
    "    #We first work in 2D, looking at the MW from the north pole, and hence only considering U and V, so\n",
    "    #for now we only have to deal with the l angle. In the following rad_disc is the component of the \n",
    "    #radial velocity in the plane of the MW and l_vel_disc the l component of the velocity. They are both\n",
    "    #expressed in km/s\n",
    "    \n",
    "    if l_obj >= 0 and l_obj < 90:\n",
    "        rad_disc   =   U*np.cos(l_obj*np.pi/180) + V*np.cos((90 - l_obj)*np.pi/180)\n",
    "        l_vel_disc = - U*np.sin(l_obj*np.pi/180) + V*np.sin((90 - l_obj)*np.pi/180)\n",
    "        \n",
    "    if l_obj > 90 and l_obj < 180:\n",
    "        rad_disc   = - U*np.cos((180 - l_obj)*np.pi/180) + V*np.cos((l_obj - 90)*np.pi/180)\n",
    "        l_vel_disc = - U*np.cos((180 - l_obj)*np.pi/180) - V*np.cos((l_obj - 90)*np.pi/180)\n",
    "        \n",
    "    if l_obj > 180 and l_obj < 270:\n",
    "        rad_disc   = - U*np.cos(l_obj*np.pi/180) - V*np.cos((90 - l_obj)*np.pi/180)\n",
    "        l_vel_disc =   U*np.sin(l_obj*np.pi/180) - V*np.sin((90 - l_obj)*np.pi/180)\n",
    "        \n",
    "    if l_obj > 270 and l_obj < 360:\n",
    "        rad_disc   =   U*np.cos((180 - l_obj)*np.pi/180) - V*np.cos((l_obj - 90)*np.pi/180)\n",
    "        l_vel_disc =   U*np.cos((180 - l_obj)*np.pi/180) + V*np.cos((l_obj - 90)*np.pi/180)\n",
    "        \n",
    "    #Now we focus on the plane defined by (rad_disc, W)  \n",
    "    if b_obj >= 0 and b_obj < 90:"
   ]
  },
  {
   "cell_type": "code",
   "execution_count": 221,
   "metadata": {},
   "outputs": [],
   "source": [
    "import matplotlib.pyplot as plt\n",
    "import numpy as np\n",
    "import astropy.coordinates as coord\n",
    "import astropy.units as u\n",
    "\n",
    "from astropy.visualization import astropy_mpl_style\n",
    "\n",
    "plt.style.use(astropy_mpl_style)"
   ]
  },
  {
   "cell_type": "code",
   "execution_count": 232,
   "metadata": {},
   "outputs": [
    {
     "name": "stdout",
     "output_type": "stream",
     "text": [
      "208.32981820797795 km / s 294.8422574609254 km / s 32.793136479748945 km / s\n"
     ]
    }
   ],
   "source": [
    "c1 = coord.SkyCoord(ra=89.014303*u.degree, dec=13.924912*u.degree,\n",
    "                    distance=(37.59*u.mas).to(u.pc, u.parallax()),\n",
    "                    pm_ra_cosdec=pm_l_final*u.mas/u.yr,\n",
    "                    pm_dec=-pm_b_final*u.mas/u.yr,\n",
    "                    radial_velocity=-203*u.km/u.s,\n",
    "                    frame='icrs')\n",
    "\n",
    "gc1 = c1.transform_to(coord.Galactocentric)\n",
    "print(gc1.v_x, gc1.v_y, gc1.v_z)"
   ]
  },
  {
   "cell_type": "code",
   "execution_count": 226,
   "metadata": {},
   "outputs": [
    {
     "name": "stdout",
     "output_type": "stream",
     "text": [
      "28.42795836058219 km / s 169.69916086163028 km / s 17.708316524432327 km / s\n"
     ]
    }
   ],
   "source": [
    "v_sun = [11.1, 244, 7.25] * (u.km / u.s)  # [vx, vy, vz]\n",
    "gc_frame = coord.Galactocentric(\n",
    "    galcen_distance=8*u.kpc,\n",
    "    galcen_v_sun=v_sun,\n",
    "    z_sun=0*u.pc)\n",
    "\n",
    "gc2 = c1.transform_to(gc_frame)\n",
    "print(gc2.v_x, gc2.v_y, gc2.v_z)"
   ]
  },
  {
   "cell_type": "code",
   "execution_count": null,
   "metadata": {},
   "outputs": [],
   "source": []
  }
 ],
 "metadata": {
  "kernelspec": {
   "display_name": "Python 3",
   "language": "python",
   "name": "python3"
  },
  "language_info": {
   "codemirror_mode": {
    "name": "ipython",
    "version": 3
   },
   "file_extension": ".py",
   "mimetype": "text/x-python",
   "name": "python",
   "nbconvert_exporter": "python",
   "pygments_lexer": "ipython3",
   "version": "3.8.10"
  }
 },
 "nbformat": 4,
 "nbformat_minor": 4
}
