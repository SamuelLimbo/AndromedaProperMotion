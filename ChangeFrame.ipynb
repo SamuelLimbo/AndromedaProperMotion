{
 "cells": [
  {
   "cell_type": "markdown",
   "metadata": {},
   "source": [
    "## Let's determine how to compute the velocities from a frame to another"
   ]
  },
  {
   "cell_type": "code",
   "execution_count": 59,
   "metadata": {},
   "outputs": [],
   "source": [
    "from astropy.coordinates import SkyCoord\n",
    "import astropy.units as u\n",
    "from astropy.coordinates import Galactic, ICRS\n",
    "import numpy as np"
   ]
  },
  {
   "cell_type": "code",
   "execution_count": 60,
   "metadata": {},
   "outputs": [
    {
     "name": "stdout",
     "output_type": "stream",
     "text": [
      "<ICRS Coordinate: (ra, dec) in deg\n",
      "    (10.67919546, 41.27191022)\n",
      " (pm_ra_cosdec, pm_dec, radial_velocity) in (mas / yr, mas / yr, km / s)\n",
      "    (5.34876813, -14.9751888, 23.42)>\n"
     ]
    }
   ],
   "source": [
    "gala = Galactic(l=121.17*u.degree, b=-21.57*u.degree,\n",
    "            pm_l_cosb=4.8*u.mas/u.yr, pm_b=-15.16*u.mas/u.yr,\n",
    "            radial_velocity=23.42*u.km/u.s)\n",
    "\n",
    "print(gala.transform_to(ICRS()))"
   ]
  },
  {
   "cell_type": "markdown",
   "metadata": {},
   "source": [
    "### Initialisation of the different velocity components "
   ]
  },
  {
   "cell_type": "code",
   "execution_count": 61,
   "metadata": {},
   "outputs": [],
   "source": [
    "v_circ = 254\n",
    "U      = 11.1 \n",
    "V      = 12.24\n",
    "W      = 7.25"
   ]
  },
  {
   "cell_type": "markdown",
   "metadata": {},
   "source": [
    "## Radial velocity\n",
    "\n",
    "We have different components adding up for that total radial velocity. Let's derive it step by step, starting in the plane containing the disc of the MW. The following graph shows the different contributions of the different velocities.  We are going to denote these velocities with the name disc in order to know that these are just the ones in the plane of the disc. We can note that only W is here having a value of zero.\n",
    "\n",
    "#### In the plane of the disc"
   ]
  },
  {
   "cell_type": "code",
   "execution_count": 62,
   "metadata": {},
   "outputs": [],
   "source": [
    "rad_disc   = (v_circ + V)*np.cos(31.17*np.pi/180) - U*np.cos(58.83*np.pi/180)\n",
    "\n",
    "trans_disc = (v_circ + V)*np.sin(31.17*np.pi/180) + U*np.sin(58.83*np.pi/180) #pm_l"
   ]
  },
  {
   "cell_type": "markdown",
   "metadata": {},
   "source": [
    "#### In the plane passing by the north galactic pole and the LOS"
   ]
  },
  {
   "cell_type": "code",
   "execution_count": 63,
   "metadata": {},
   "outputs": [],
   "source": [
    "rad_pole_LOS   = rad_disc*np.cos(21.57*np.pi/180) - W*np.sin(21.57*np.pi/180) #final radial velocity\n",
    "\n",
    "trans_pole_LOS = rad_disc*np.sin(21.57*np.pi/180) + W*np.cos(21.57*np.pi/180) #pm_b"
   ]
  },
  {
   "cell_type": "markdown",
   "metadata": {},
   "source": [
    "#### From there we would then like to know what are these velocities in km/s instead of mas/yr."
   ]
  },
  {
   "cell_type": "code",
   "execution_count": 68,
   "metadata": {
    "scrolled": true
   },
   "outputs": [
    {
     "name": "stdout",
     "output_type": "stream",
     "text": [
      "-43.731038374409295\n"
     ]
    }
   ],
   "source": [
    "dist_l = trans_disc*365.25*86400\n",
    "dist_b = trans_pole_LOS*365.25*86400\n",
    "\n",
    "pm_l_final = dist_l/(780*3.08E16*4.84814E-12*np.cos(21.57))\n",
    "pm_b_final = dist_b/(780*3.08E16*4.84814E-12)\n",
    "\n",
    "print(pm_l_final)"
   ]
  },
  {
   "cell_type": "code",
   "execution_count": 70,
   "metadata": {},
   "outputs": [],
   "source": [
    "gala = Galactic(l=121.17*u.degree, b=-21.57*u.degree,\n",
    "            pm_l_cosb=-pm_l_final*u.mas/u.yr, pm_b=-pm_b_final*u.mas/u.yr,\n",
    "            radial_velocity=-rad_pole_LOS*u.km/u.s)\n",
    "\n",
    "Answer = gala.transform_to(ICRS())\n",
    "\n",
    "v_ra  = (Answer.pm_ra_cosdec.value)/np.cos(41.27191022*np.pi/180)\n",
    "v_dec = Answer.pm_dec.value"
   ]
  },
  {
   "cell_type": "code",
   "execution_count": 66,
   "metadata": {},
   "outputs": [
    {
     "name": "stdout",
     "output_type": "stream",
     "text": [
      "The transverse velocity of such uncertainties would be about:: 218.88568965416823\n",
      "The transverse velocity of such uncertainties would be about:: -82.44467608445133\n"
     ]
    }
   ],
   "source": [
    "RadDist = 780*3.08E16 #1kpc is 3.086E16km\n",
    "YrToSec = 365.25*86400 #Years to seconds\n",
    "\n",
    "v = RadDist*(v_ra*4.84814E-12)/YrToSec\n",
    "print(\"The transverse velocity of such uncertainties would be about::\", v)\n",
    "\n",
    "v = RadDist*(v_dec*4.84814E-12)/YrToSec\n",
    "print(\"The transverse velocity of such uncertainties would be about::\", v)"
   ]
  },
  {
   "cell_type": "code",
   "execution_count": null,
   "metadata": {},
   "outputs": [],
   "source": []
  }
 ],
 "metadata": {
  "kernelspec": {
   "display_name": "Python 3",
   "language": "python",
   "name": "python3"
  },
  "language_info": {
   "codemirror_mode": {
    "name": "ipython",
    "version": 3
   },
   "file_extension": ".py",
   "mimetype": "text/x-python",
   "name": "python",
   "nbconvert_exporter": "python",
   "pygments_lexer": "ipython3",
   "version": "3.8.10"
  }
 },
 "nbformat": 4,
 "nbformat_minor": 4
}
