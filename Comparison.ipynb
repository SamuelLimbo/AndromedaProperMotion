{
 "cells": [
  {
   "cell_type": "markdown",
   "metadata": {},
   "source": [
    "# Comparison of the results"
   ]
  },
  {
   "cell_type": "code",
   "execution_count": 1,
   "metadata": {},
   "outputs": [
    {
     "name": "stdout",
     "output_type": "stream",
     "text": [
      "Quasar Systematics\n"
     ]
    }
   ],
   "source": [
    "import matplotlib.font_manager\n",
    "from IPython.core.display import HTML\n",
    "import numpy as np\n",
    "import matplotlib.pyplot as plt\n",
    "from mpl_toolkits.mplot3d import Axes3D\n",
    "import random \n",
    "import csv\n",
    "from IPython.display import display, Math\n",
    "from numpy import unravel_index\n",
    "from astropy.io import fits\n",
    "from astropy.table import Table, vstack\n",
    "import matplotlib.colors\n",
    "from scipy.optimize import curve_fit\n",
    "from matplotlib.colors import LinearSegmentedColormap\n",
    "\n",
    "def make_html(fontname):\n",
    "    return \"<p>{font}: <span style='font-family:{font}; font-size: 24px;'>{font}</p>\".format(font=fontname)\n",
    "\n",
    "code = \"\\n\".join([make_html(font) for font in sorted(set([f.name for f in matplotlib.font_manager.fontManager.ttflist]))])\n",
    "\n",
    "HTML(\"<div style='column-count: 2;'>{}</div>\".format(code))\n",
    "\n",
    "plt.rcParams[\"font.family\"] = \"TeX Gyre Schola Math\"\n",
    "\n",
    "print(\"Quasar Systematics\")"
   ]
  },
  {
   "cell_type": "code",
   "execution_count": 13,
   "metadata": {},
   "outputs": [],
   "source": [
    "def Convert(List):\n",
    "    #___ Description_____________________________________________________________________________________\n",
    "    #Arguments:: just a list of shape 4*1: [alpha, alpha_unc, delta, delta_unc], all in µas/yr\n",
    "    #Returns:: same list but with its elements converted into km/s\n",
    "    #____________________________________________________________________________________________________\n",
    "    Result = []\n",
    "    for value in List:\n",
    "        Result.append(value*3.6907659441782648)\n",
    "\n",
    "    return Result"
   ]
  },
  {
   "cell_type": "markdown",
   "metadata": {},
   "source": [
    "## In the Gaia frame"
   ]
  },
  {
   "cell_type": "code",
   "execution_count": 50,
   "metadata": {},
   "outputs": [],
   "source": [
    "vdM_08 = [78, 41, -38, 34]\n",
    "vdM_08.append(\"vdM08\")\n",
    "\n",
    "S_12   = Convert([42.2, 12.3, -30.9, 11.7])\n",
    "S_12.append(\"Sohn12\")\n",
    "\n",
    "vdM_19 = Convert([65, 18, -57, 15])\n",
    "vdM_19.append(\"vdM19\")\n",
    "\n",
    "s_21_B = [159.8, 20.7, -111.2, 17.4]\n",
    "s_21_B.append(\"Salomon21 (Blue)\")\n",
    "s_21_R = [134.8, 29.9, -293.6, 25.2]\n",
    "s_21_R.append(\"SalomonRed21 (Red)\")\n",
    "\n",
    "#Correcting for the QSOs\n",
    "S_21_B = [178.7, 38.1, -142.7, 28.9]\n",
    "S_21_B.append(\"Salomon21 (Blue)\")\n",
    "S_21_R = [153.7, 43.8, -325.1, 34.2]\n",
    "S_21_R.append(\"Salomon21 (Red)\")\n",
    "\n",
    "A_23_B = Convert([44.4, 12., -32.9, 10.])\n",
    "A_23_B.append(\"Gaia DR3 blue\")\n",
    "A_23_R = Convert([40.0, 14.4, -79.7, 11.8])\n",
    "A_23_R.append(\"Gaia DR3 red\")"
   ]
  },
  {
   "cell_type": "code",
   "execution_count": 63,
   "metadata": {},
   "outputs": [],
   "source": [
    "def Plot(ListsOfValues):\n",
    "    plt.figure(figsize=(8, 8))\n",
    "    \n",
    "    Colors = ['#1F0AB5', '#750AB5', '#B50AA0', '#B50A4B', '#B51F0A', \"#B5750A\"]\n",
    "    \n",
    "    for i in range(len(ListsOfValues)):\n",
    "        plt.errorbar(ListsOfValues[i][0], ListsOfValues[i][2], ListsOfValues[i][3], ListsOfValues[i][1],\n",
    "                 '-o', color=Colors[i], ecolor=Colors[i], barsabove=True, capsize=3, label=ListsOfValues[i][4])\n",
    "\n",
    "    plt.legend()\n",
    "    plt.xticks(fontsize = 15)\n",
    "    plt.yticks(fontsize = 15)\n",
    "    plt.xlabel(r'$v_{\\alpha}$ (km.s$^{-1}$)', fontname = 'Serif', size = 19)\n",
    "    plt.ylabel(r'$v_{\\delta}$ (km.s$^{-1}$)', fontname = 'Serif', size = 19)\n",
    "    plt.gca().invert_xaxis()\n",
    "    plt.show()"
   ]
  },
  {
   "cell_type": "code",
   "execution_count": 64,
   "metadata": {},
   "outputs": [
    {
     "data": {
      "image/png": "[encoded data removed]",
      "text/plain": [
       "<Figure size 576x576 with 1 Axes>"
      ]
     },
     "metadata": {
      "needs_background": "light"
     },
     "output_type": "display_data"
    }
   ],
   "source": [
    "Plot([vdM_08, S_12, vdM_19, S_21_B])"
   ]
  },
  {
   "cell_type": "code",
   "execution_count": null,
   "metadata": {},
   "outputs": [],
   "source": []
  }
 ],
 "metadata": {
  "kernelspec": {
   "display_name": "Python 3",
   "language": "python",
   "name": "python3"
  },
  "language_info": {
   "codemirror_mode": {
    "name": "ipython",
    "version": 3
   },
   "file_extension": ".py",
   "mimetype": "text/x-python",
   "name": "python",
   "nbconvert_exporter": "python",
   "pygments_lexer": "ipython3",
   "version": "3.7.6"
  }
 },
 "nbformat": 4,
 "nbformat_minor": 4
}
